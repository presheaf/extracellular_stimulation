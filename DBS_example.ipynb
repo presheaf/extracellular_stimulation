{
 "cells": [
  {
   "cell_type": "code",
   "execution_count": 7,
   "metadata": {
    "autoscroll": "json-false",
    "collapsed": false,
    "ein.tags": [
     "worksheet-0"
    ]
   },
   "outputs": [
    {
     "name": "stdout",
     "output_type": "stream",
     "text": [
      "./L5_TTPC2_cADpyr232_1\n"
     ]
    }
   ],
   "source": [
    "## Initialization\n",
    "\n",
    "%matplotlib inline\n",
    "import matplotlib\n",
    "# matplotlib.use('AGG')\n",
    "import LFPy\n",
    "import numpy as np\n",
    "import os\n",
    "import sys\n",
    "import nest\n",
    "\n",
    "from plotting_convention import *\n",
    "\n",
    "import matplotlib.pyplot as plt\n",
    "from os.path import join\n",
    "from glob import glob\n",
    "\n",
    "hbp_cells = '.'\n",
    "\n",
    "sys.path.append(hbp_cells)\n",
    "from hbp_cells import return_cell\n",
    "\n",
    "l5_models = glob(join(\".\", 'L5_TTPC2*'))\n",
    "cell_folder = l5_models[0]\n",
    "cell_name = cell_folder.split('/')[-1]\n",
    "print cell_folder\n"
   ]
  },
  {
   "cell_type": "code",
   "execution_count": 47,
   "metadata": {
    "autoscroll": "json-false",
    "collapsed": false,
    "ein.tags": [
     "worksheet-0"
    ]
   },
   "outputs": [],
   "source": [
    "def soma_response(stim_amp, source_pos=[-70, 0, 0]):\n",
    "    dt = 2**-4\n",
    "    T = 100\n",
    "    start_T = -200\n",
    "\n",
    "    sigma = 0.3\n",
    "\n",
    "    amp = stim_amp\n",
    "    stim_start_time = 20\n",
    "\n",
    "    n_tsteps = int(T / dt + 1)\n",
    "    t = np.arange(n_tsteps) * dt\n",
    "\n",
    "    sources_x = np.array([source_pos[0]])\n",
    "    sources_y = np.array([source_pos[1]])\n",
    "    sources_z = np.array([source_pos[2]])\n",
    "\n",
    "    def ext_field(x, y, z):\n",
    "\tef = 0\n",
    "\tfor s_idx in range(len(sources_x)):\n",
    "\t    ef += 1 / (4 * np.pi * sigma * np.sqrt((sources_x[s_idx] - x) ** 2 +\n",
    "\t\t\t\t\t\t   (sources_y[s_idx] - y) ** 2 +\n",
    "\t\t\t\t\t\t   (sources_z[s_idx] - z) ** 2))\n",
    "\treturn ef\n",
    "\n",
    "    cell = return_cell(cell_folder, cell_name, T, dt, start_T)\n",
    "\n",
    "    pulse = np.zeros(n_tsteps)\n",
    "    start_time_idx = np.argmin(np.abs(t - stim_start_time))\n",
    "    pulse[start_time_idx:] = amp\n",
    "\n",
    "    v_cell_ext = np.zeros((cell.totnsegs, n_tsteps))\n",
    "    v_cell_ext[:, :] = ext_field(cell.xmid, cell.ymid, cell.zmid).reshape(cell.totnsegs, 1) * pulse.reshape(1, n_tsteps)\n",
    "\n",
    "    cell.insert_v_ext(v_cell_ext, t)\n",
    "    print(\"running simulation...\")\n",
    "    cell.simulate(rec_imem=False, rec_isyn=True, rec_vmem=True)\n",
    "    np.save('vmem_cell.npy', cell.vmem)\n",
    "    vmem = cell.vmem\n",
    "    # print '[', amp, ',', np.max(cell.somav) - cell.somav[start_time_idx - 1], '],'\n",
    "    return cell.somav[:]\n",
    "    "
   ]
  },
  {
   "cell_type": "code",
   "execution_count": 3,
   "metadata": {
    "autoscroll": "json-false",
    "collapsed": false,
    "ein.tags": [
     "worksheet-0"
    ]
   },
   "outputs": [],
   "source": [
    "def point_neuron(Ie):\n",
    "    nest.ResetKernel()\n",
    "    \n",
    "    n = nest.Create('iaf_psc_delta', params={'I_e': Ie})\n",
    "    vm = nest.Create('voltmeter', params={'interval': 0.1})\n",
    "    sd = nest.Create('spike_detector')\n",
    "    \n",
    "    nest.Connect(vm, n)\n",
    "    nest.Connect(n, sd)\n",
    "\n",
    "    nest.Simulate(50)\n",
    "    vme = nest.GetStatus(vm, 'events')[0]\n",
    "    return vme['V_m'], vme['times']\n"
   ]
  },
  {
   "cell_type": "code",
   "execution_count": 48,
   "metadata": {
    "autoscroll": "json-false",
    "collapsed": false,
    "ein.tags": [
     "worksheet-0"
    ]
   },
   "outputs": [
    {
     "data": {
      "image/png": "[encoded data removed]",
      "text/plain": [
       "<matplotlib.figure.Figure at 0x7f8634637090>"
      ]
     },
     "metadata": {},
     "output_type": "display_data"
    },
    {
     "name": "stdout",
     "output_type": "stream",
     "text": [
      "\n",
      "rec_imem = False, membrane currents will not be recorded!\n"
     ]
    },
    {
     "name": "stdout",
     "output_type": "stream",
     "text": [
      "Simulating  L5_TTPC2_cADpyr232_1\n",
      "template cADpyr232_L5_TTPC2_8052133265 found!\n",
      "template cADpyr232_L5_TTPC2_8052133265 found!\n",
      "template cADpyr232_L5_TTPC2_8052133265 found!\n",
      "Loading constants\n",
      "template cADpyr232_L5_TTPC2_8052133265 exist already\n",
      "running simulation..."
     ]
    }
   ],
   "source": [
    "somav = soma_response(-2000)\n",
    "\n",
    "plt.title('Somatic membrane potential')\n",
    "plt.ylabel('mV')\n",
    "plt.plot(somav);\n",
    "\n",
    "\n"
   ]
  },
  {
   "cell_type": "code",
   "execution_count": 49,
   "metadata": {
    "autoscroll": "json-false",
    "collapsed": false,
    "ein.tags": [
     "worksheet-0"
    ]
   },
   "outputs": [
    {
     "data": {
      "image/png": "[encoded data removed]",
      "text/plain": [
       "<matplotlib.figure.Figure at 0x7f86346bf610>"
      ]
     },
     "metadata": {},
     "output_type": "display_data"
    }
   ],
   "source": [
    "V, t = point_neuron(370.)\n",
    "plt.plot(t, V);"
   ]
  },
  {
   "cell_type": "code",
   "execution_count": 6,
   "metadata": {
    "autoscroll": "json-false",
    "collapsed": false,
    "ein.tags": [
     "worksheet-0"
    ]
   },
   "outputs": [
    {
     "ename": "NameError",
     "evalue": "name 'cell' is not defined",
     "output_type": "error",
     "traceback": [
      "\u001b[1;31m---------------------------------------------------------------------------\u001b[0m",
      "\u001b[1;31mNameError\u001b[0m                                 Traceback (most recent call last)",
      "\u001b[1;32m<ipython-input-6-f583767890ec>\u001b[0m in \u001b[0;36m<module>\u001b[1;34m()\u001b[0m\n\u001b[1;32m----> 1\u001b[1;33m \u001b[0mxmax\u001b[0m \u001b[1;33m=\u001b[0m \u001b[0mnp\u001b[0m\u001b[1;33m.\u001b[0m\u001b[0mmax\u001b[0m\u001b[1;33m(\u001b[0m\u001b[1;33m[\u001b[0m\u001b[0mnp\u001b[0m\u001b[1;33m.\u001b[0m\u001b[0mmax\u001b[0m\u001b[1;33m(\u001b[0m\u001b[0mcell\u001b[0m\u001b[1;33m.\u001b[0m\u001b[0mxend\u001b[0m\u001b[1;33m)\u001b[0m\u001b[1;33m,\u001b[0m \u001b[0mnp\u001b[0m\u001b[1;33m.\u001b[0m\u001b[0mmax\u001b[0m\u001b[1;33m(\u001b[0m\u001b[0msources_x\u001b[0m\u001b[1;33m)\u001b[0m\u001b[1;33m]\u001b[0m\u001b[1;33m)\u001b[0m\u001b[1;33m\u001b[0m\u001b[0m\n\u001b[0m\u001b[0;32m      2\u001b[0m \u001b[0mxmin\u001b[0m \u001b[1;33m=\u001b[0m \u001b[0mnp\u001b[0m\u001b[1;33m.\u001b[0m\u001b[0mmin\u001b[0m\u001b[1;33m(\u001b[0m\u001b[1;33m[\u001b[0m\u001b[0mnp\u001b[0m\u001b[1;33m.\u001b[0m\u001b[0mmin\u001b[0m\u001b[1;33m(\u001b[0m\u001b[0mcell\u001b[0m\u001b[1;33m.\u001b[0m\u001b[0mxend\u001b[0m\u001b[1;33m)\u001b[0m\u001b[1;33m,\u001b[0m \u001b[0mnp\u001b[0m\u001b[1;33m.\u001b[0m\u001b[0mmin\u001b[0m\u001b[1;33m(\u001b[0m\u001b[0msources_x\u001b[0m\u001b[1;33m)\u001b[0m\u001b[1;33m]\u001b[0m\u001b[1;33m)\u001b[0m\u001b[1;33m\u001b[0m\u001b[0m\n\u001b[0;32m      3\u001b[0m \u001b[0mymax\u001b[0m \u001b[1;33m=\u001b[0m \u001b[0mnp\u001b[0m\u001b[1;33m.\u001b[0m\u001b[0mmax\u001b[0m\u001b[1;33m(\u001b[0m\u001b[1;33m[\u001b[0m\u001b[0mnp\u001b[0m\u001b[1;33m.\u001b[0m\u001b[0mmax\u001b[0m\u001b[1;33m(\u001b[0m\u001b[0mcell\u001b[0m\u001b[1;33m.\u001b[0m\u001b[0myend\u001b[0m\u001b[1;33m)\u001b[0m\u001b[1;33m,\u001b[0m \u001b[0mnp\u001b[0m\u001b[1;33m.\u001b[0m\u001b[0mmax\u001b[0m\u001b[1;33m(\u001b[0m\u001b[0msources_y\u001b[0m\u001b[1;33m)\u001b[0m\u001b[1;33m]\u001b[0m\u001b[1;33m)\u001b[0m\u001b[1;33m\u001b[0m\u001b[0m\n\u001b[0;32m      4\u001b[0m \u001b[0mymin\u001b[0m \u001b[1;33m=\u001b[0m \u001b[0mnp\u001b[0m\u001b[1;33m.\u001b[0m\u001b[0mmin\u001b[0m\u001b[1;33m(\u001b[0m\u001b[1;33m[\u001b[0m\u001b[0mnp\u001b[0m\u001b[1;33m.\u001b[0m\u001b[0mmin\u001b[0m\u001b[1;33m(\u001b[0m\u001b[0mcell\u001b[0m\u001b[1;33m.\u001b[0m\u001b[0myend\u001b[0m\u001b[1;33m)\u001b[0m\u001b[1;33m,\u001b[0m \u001b[0mnp\u001b[0m\u001b[1;33m.\u001b[0m\u001b[0mmin\u001b[0m\u001b[1;33m(\u001b[0m\u001b[0msources_y\u001b[0m\u001b[1;33m)\u001b[0m\u001b[1;33m]\u001b[0m\u001b[1;33m)\u001b[0m\u001b[1;33m\u001b[0m\u001b[0m\n\u001b[0;32m      5\u001b[0m \u001b[0mzmax\u001b[0m \u001b[1;33m=\u001b[0m \u001b[0mnp\u001b[0m\u001b[1;33m.\u001b[0m\u001b[0mmax\u001b[0m\u001b[1;33m(\u001b[0m\u001b[1;33m[\u001b[0m\u001b[0mnp\u001b[0m\u001b[1;33m.\u001b[0m\u001b[0mmax\u001b[0m\u001b[1;33m(\u001b[0m\u001b[0mcell\u001b[0m\u001b[1;33m.\u001b[0m\u001b[0mzend\u001b[0m\u001b[1;33m)\u001b[0m\u001b[1;33m,\u001b[0m \u001b[0mnp\u001b[0m\u001b[1;33m.\u001b[0m\u001b[0mmax\u001b[0m\u001b[1;33m(\u001b[0m\u001b[0msources_z\u001b[0m\u001b[1;33m)\u001b[0m\u001b[1;33m]\u001b[0m\u001b[1;33m)\u001b[0m\u001b[1;33m\u001b[0m\u001b[0m\n",
      "\u001b[1;31mNameError\u001b[0m: name 'cell' is not defined"
     ]
    }
   ],
   "source": [
    "xmax = np.max([np.max(cell.xend), np.max(sources_x)])\n",
    "xmin = np.min([np.min(cell.xend), np.min(sources_x)])\n",
    "ymax = np.max([np.max(cell.yend), np.max(sources_y)])\n",
    "ymin = np.min([np.min(cell.yend), np.min(sources_y)])\n",
    "zmax = np.max([np.max(cell.zend), np.max(sources_z)])\n",
    "zmin = np.min([np.min(cell.zend), np.min(sources_z)])\n",
    "\n",
    "v_field_ext_xz = np.zeros((100, 200))\n",
    "xf = np.linspace(xmin, xmax, 100)\n",
    "zf = np.linspace(zmin, zmax, 200)\n",
    "for xidx, x in enumerate(xf):\n",
    "    for zidx, z in enumerate(zf):\n",
    "        v_field_ext_xz[xidx, zidx] = ext_field(x, 0, z) * amp\n",
    "\n",
    "v_field_ext_xy = np.zeros((50, 50))\n",
    "xf = np.linspace(xmin, xmax, 50)\n",
    "yf = np.linspace(ymin, ymax, 50)\n",
    "for xidx, x in enumerate(xf):\n",
    "    for yidx, y in enumerate(yf):\n",
    "        v_field_ext_xy[xidx, yidx] = ext_field(x, y, 0) * amp\n",
    "\n",
    "vmax = np.max(np.abs(v_field_ext_xz)) / 10\n",
    "vmin = -vmax\n",
    "\n",
    "plt.close('all')\n",
    "fig = plt.figure(figsize=[10, 5])\n",
    "fig.subplots_adjust(wspace=0.7, hspace=0.8, top=0.9, bottom=0.12, right=0.94)\n",
    "\n",
    "ax2 = plt.subplot(131, aspect=1, frameon=False, xticks=[], title='top view', xlabel='x ($\\mu$m)', ylabel='y ($\\mu$m)')\n",
    "ax1 = plt.subplot(132, aspect=1, frameon=False, xticks=[], title='side view', xlabel='x ($\\mu$m)', ylabel='z ($\\mu$m)')\n",
    "ax3 = plt.subplot(233, title='Somatic membrane\\npotential', ylabel='mV')\n",
    "ax6 = plt.subplot(236, ylim=[-5 - np.abs(amp)/1000., np.abs(amp)/1000. + 5],\n",
    "                  ylabel='$\\mu$A', title='Injected current')\n",
    "\n",
    "ax3.plot(t, vmem[0, :], c='k', lw=2)\n",
    "ax6.plot(t, pulse / 1000, lw=2, c='r')\n",
    "ax1.plot(sources_x, sources_z, '*', c='y', ms=10,  lw=1)\n",
    "\n",
    "img1 = ax1.imshow(v_field_ext_xz.T, extent=[xmin, xmax, zmin, zmax], origin='lower', interpolation='nearest', cmap=plt.cm.bwr, vmin=vmin, vmax=vmax)\n",
    "cb = plt.colorbar(img1, ax=ax1, shrink=0.4)\n",
    "cb.set_label('mV', labelpad=-2)\n",
    "\n",
    "[ax1.plot([cell.xstart[idx], cell.xend[idx]], [cell.zstart[idx], cell.zend[idx]], c='k')\n",
    " for idx in range(cell.totnsegs)]\n",
    "ax1.plot(cell.xmid[0], cell.zmid[0], 'o', ms=8, c='k', mec='none')\n",
    "\n",
    "stim, = ax2.plot(sources_x, sources_y, '*', c='y', ms=10,  lw=1)\n",
    "img2 = ax2.imshow(v_field_ext_xy.T, extent=[xmin, xmax, ymin, ymax], origin='lower', interpolation='nearest', cmap=plt.cm.bwr, vmin=vmin, vmax=vmax)\n",
    "cb = plt.colorbar(img2, ax=ax2, shrink=0.4)#, ticks=tick_locations)\n",
    "cb.set_label('mV', labelpad=-2)\n",
    "\n",
    "[ax2.plot([cell.xstart[idx], cell.xend[idx]], [cell.ystart[idx], cell.yend[idx]], c='k')\n",
    " for idx in range(cell.totnsegs)]\n",
    "ax2.plot(cell.xmid[0], cell.ymid[0], 'o', ms=8, c='k', mec='none')\n",
    "fig.legend([stim], ['Injection point'], loc='lower center', frameon=False, numpoints=1)\n",
    "\n",
    "for ax in fig.axes:\n",
    "    ax.set_yticks(ax.get_yticks()[::2])\n",
    "simplify_axes([ax3, ax6])\n",
    "\n",
    "mark_subplots(ax1, 'B', xpos=-0.1, ypos=1.05)\n",
    "mark_subplots(ax2, 'A', xpos=-0.1, ypos=1.1)\n",
    "mark_subplots(ax3, 'C', xpos=-0.2, ypos=1.0)\n",
    "mark_subplots(ax6, 'D', xpos=-0.2, ypos=1.0)\n",
    "\n",
    "plt.show()"
   ]
  },
  {
   "cell_type": "code",
   "execution_count": 0,
   "metadata": {
    "autoscroll": "json-false",
    "collapsed": false,
    "ein.tags": [
     "worksheet-0"
    ]
   },
   "outputs": [],
   "source": []
  },
  {
   "cell_type": "code",
   "execution_count": 0,
   "metadata": {
    "autoscroll": "json-false",
    "collapsed": false,
    "ein.tags": [
     "worksheet-0"
    ]
   },
   "outputs": [],
   "source": []
  }
 ],
 "metadata": {
  "kernelspec": {
   "display_name": "IPython (Python 2)",
   "name": "python2"
  },
  "language_info": {
   "codemirror_mode": {
    "name": "ipython",
    "version": 2
   },
   "file_extension": ".py",
   "mimetype": "text/x-python",
   "name": "python",
   "nbconvert_exporter": "python",
   "pygments_lexer": "ipython2",
   "version": "2.7.11"
  },
  "name": "DBS_example.ipynb"
 },
 "nbformat": 4,
 "nbformat_minor": 0
}
