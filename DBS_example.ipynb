{
 "cells": [
  {
   "cell_type": "code",
   "execution_count": 1,
   "metadata": {
    "autoscroll": "json-false",
    "collapsed": false,
    "ein.tags": [
     "worksheet-0"
    ]
   },
   "outputs": [
    {
     "name": "stdout",
     "output_type": "stream",
     "text": [
      "/home/karleh/.hashdist/bld/profile/bouzhaqj5ks4/lib/python2.7/site-packages/matplotlib/__init__.py:1318: UserWarning:  This call to matplotlib.use() has no effect\n",
      "because the backend has already been chosen;\n",
      "matplotlib.use() must be called *before* pylab, matplotlib.pyplot,\n",
      "or matplotlib.backends is imported for the first time.\n",
      "\n",
      "./L5_TTPC2_cADpyr232_1\n"
     ]
    }
   ],
   "source": [
    "## Initialization\n",
    "\n",
    "%matplotlib inline\n",
    "import matplotlib\n",
    "# matplotlib.use('AGG')\n",
    "import LFPy\n",
    "import numpy as np\n",
    "import os\n",
    "import sys\n",
    "import nest\n",
    "import scipy\n",
    "from plotting_convention import *\n",
    "\n",
    "import matplotlib.pyplot as plt\n",
    "from os.path import join\n",
    "from glob import glob\n",
    "\n",
    "hbp_cells = '.'\n",
    "\n",
    "sys.path.append(hbp_cells)\n",
    "from hbp_cells import return_cell\n",
    "\n",
    "l5_models = glob(join(\".\", 'L5_TTPC2*'))\n",
    "cell_folder = l5_models[0]\n",
    "cell_name = cell_folder.split('/')[-1]\n",
    "print cell_folder\n"
   ]
  },
  {
   "cell_type": "code",
   "execution_count": 2,
   "metadata": {
    "autoscroll": "json-false",
    "collapsed": false,
    "ein.tags": [
     "worksheet-0"
    ]
   },
   "outputs": [],
   "source": [
    "def soma_response(stim_amp, source_pos=[-70, 0, 0]):\n",
    "    dt = 2**-4\n",
    "    T = 100\n",
    "    start_T = -200\n",
    "\n",
    "    sigma = 0.3\n",
    "\n",
    "    amp = stim_amp\n",
    "    stim_start_time = 20\n",
    "\n",
    "    n_tsteps = int(T / dt + 1)\n",
    "    t = np.arange(n_tsteps) * dt\n",
    "\n",
    "    sources_x = np.array([source_pos[0]])\n",
    "    sources_y = np.array([source_pos[1]])\n",
    "    sources_z = np.array([source_pos[2]])\n",
    "\n",
    "    def ext_field(x, y, z):\n",
    "\tef = 0\n",
    "\tfor s_idx in range(len(sources_x)):\n",
    "\t    ef += 1 / (4 * np.pi * sigma * np.sqrt((sources_x[s_idx] - x) ** 2 +\n",
    "\t\t\t\t\t\t   (sources_y[s_idx] - y) ** 2 +\n",
    "\t\t\t\t\t\t   (sources_z[s_idx] - z) ** 2))\n",
    "\treturn ef\n",
    "\n",
    "    cell = return_cell(cell_folder, cell_name, T, dt, start_T)\n",
    "\n",
    "    pulse = np.zeros(n_tsteps)\n",
    "    start_time_idx = np.argmin(np.abs(t - stim_start_time))\n",
    "    pulse[start_time_idx:] = amp\n",
    "\n",
    "    v_cell_ext = np.zeros((cell.totnsegs, n_tsteps))\n",
    "    v_cell_ext[:, :] = ext_field(cell.xmid, cell.ymid, cell.zmid).reshape(cell.totnsegs, 1) * pulse.reshape(1, n_tsteps)\n",
    "\n",
    "    cell.insert_v_ext(v_cell_ext, t)\n",
    "    print(\"running simulation...\")\n",
    "    cell.simulate(rec_imem=False, rec_isyn=True, rec_vmem=True)\n",
    "    np.save('vmem_cell.npy', cell.vmem)\n",
    "    vmem = cell.vmem\n",
    "    # print '[', amp, ',', np.max(cell.somav) - cell.somav[start_time_idx - 1], '],'\n",
    "    \n",
    "    # change time coordinates so that stimulation starts at t=0\n",
    "    return (t[start_time_idx-1:] - stim_start_time), cell.somav[start_time_idx-1:]\n",
    "    "
   ]
  },
  {
   "cell_type": "code",
   "execution_count": 3,
   "metadata": {
    "autoscroll": "json-false",
    "collapsed": false,
    "ein.tags": [
     "worksheet-0"
    ]
   },
   "outputs": [],
   "source": [
    "C_m = 249.\n",
    "def point_neuron(Ie):\n",
    "    nest.ResetKernel()\n",
    "    \n",
    "    n = nest.Create('iaf_psc_delta', params={'I_e': Ie,\n",
    "\t\t\t\t\t     'E_L': -65.4,\n",
    "\t\t\t\t\t     'C_m': C_m,\n",
    "\t\t\t\t\t     'tau_m':5.0})\n",
    "    vm = nest.Create('voltmeter', params={'interval': 0.1})\n",
    "    sd = nest.Create('spike_detector')\n",
    "    \n",
    "    nest.Connect(vm, n)\n",
    "    nest.Connect(n, sd)\n",
    "\n",
    "    nest.Simulate(50)\n",
    "    vme = nest.GetStatus(vm, 'events')[0]\n",
    "    return vme['times'], vme['V_m']\n"
   ]
  },
  {
   "cell_type": "code",
   "execution_count": 4,
   "metadata": {
    "autoscroll": "json-false",
    "collapsed": false,
    "ein.tags": [
     "worksheet-0"
    ]
   },
   "outputs": [],
   "source": [
    "def RC_model(t, t0, V0, tau, Vp):\n",
    "    return V0 + Vp*(1 - np.exp(-(t-t0)/tau))\n",
    "\n",
    "def RC_fit(t, V):\n",
    "    # fits curve to \n",
    "    f = 0.8\n",
    "    \n",
    "    V0 = V[0]\t\t\t# resting potential\n",
    "    t0 = t[0]\t\t\t# start of stimulation\n",
    "\n",
    "    U = V - V0\n",
    "    s = t - t0\n",
    "\n",
    "    V_plateau = U[-1]\n",
    "\n",
    "    # choose tau s.t. model=data at voltage f*Vp\n",
    "    s_target = s[np.argmin(np.abs(U/V_plateau - f))]\n",
    "    tau = -s_target/np.log(1-f)\n",
    "    \n",
    "    return tau, V_plateau\n",
    "\n"
   ]
  },
  {
   "cell_type": "code",
   "execution_count": 0,
   "metadata": {
    "autoscroll": "json-false",
    "collapsed": false,
    "ein.tags": [
     "worksheet-0"
    ]
   },
   "outputs": [
    {
     "name": "stdout",
     "output_type": "stream",
     "text": [
      "Simulating  L5_TTPC2_cADpyr232_1\n",
      "template cADpyr232_L5_TTPC2_8052133265 found!\n",
      "template cADpyr232_L5_TTPC2_8052133265 found!\n",
      "template cADpyr232_L5_TTPC2_8052133265 found!\n",
      "Loading constants\n",
      "template cADpyr232_L5_TTPC2_8052133265 exist already\n",
      "running simulation..."
     ]
    }
   ],
   "source": [
    "comp_I = -6000.0\n",
    "pos = [-150, 50, 0]\n",
    "comp_t, comp_V = soma_response(comp_I, pos)\n",
    "plt.plot(comp_t, comp_V)\n",
    "plt.title('Somatic membrane potential (compartmental model)')\n",
    "plt.ylabel('mV')\n",
    "\n"
   ]
  },
  {
   "cell_type": "code",
   "execution_count": 0,
   "metadata": {
    "autoscroll": "json-false",
    "collapsed": false,
    "ein.tags": [
     "worksheet-0"
    ]
   },
   "outputs": [],
   "source": [
    "\n",
    "tau, Vp = RC_fit(comp_t, comp_V)\n",
    "V_fit = RC_model(comp_t, comp_t[0], comp_V[0], tau, Vp)\n",
    "\n",
    "plt.title('Somatic membrane potential (compartmental model)')\n",
    "plt.ylabel('mV')\n",
    "\n",
    "plt.plot(comp_t, comp_V, label=\"simulation\")\n",
    "plt.plot(comp_t, V_fit, label=\"Fitted data\")\n",
    "plt.legend(loc=\"lower right\")\n",
    "plt.show()\n",
    "\n",
    "\n",
    "\n"
   ]
  },
  {
   "cell_type": "code",
   "execution_count": 0,
   "metadata": {
    "autoscroll": "json-false",
    "collapsed": false,
    "ein.tags": [
     "worksheet-0"
    ]
   },
   "outputs": [],
   "source": [
    "point_I = 120.\n",
    "point_t, point_V = point_neuron(point_I)\n",
    "\n",
    "plt.title('Somatic membrane potential (point neuron model)')\n",
    "plt.ylabel('mV')\n",
    "plt.plot(point_t, point_V, label=\"simulation\")\n",
    "\n",
    "tau, Vp = RC_fit(point_t, point_V)\n",
    "V_fit = RC_model(point_t, point_t[0], point_V[0], tau, Vp)\n",
    "plt.plot(point_t, V_fit, label=\"fitted data\")\n",
    "plt.legend(loc=\"lower right\")\n",
    "plt.show()\n"
   ]
  },
  {
   "cell_type": "code",
   "execution_count": 0,
   "metadata": {
    "autoscroll": "json-false",
    "collapsed": false,
    "ein.tags": [
     "worksheet-0"
    ]
   },
   "outputs": [],
   "source": [
    "comp_I = -6000.0\n",
    "pos = [-150, 50, 0]\n",
    "comp_t, comp_V = soma_response(comp_I, pos)"
   ]
  },
  {
   "cell_type": "code",
   "execution_count": 0,
   "metadata": {
    "autoscroll": "json-false",
    "collapsed": false,
    "ein.tags": [
     "worksheet-0"
    ]
   },
   "outputs": [],
   "source": [
    "def I_point():\n",
    "    \"\"\"\n",
    "    Computes necessary current into a point neuron to give a \n",
    "    response comparable to a compartmental model.\"\"\"\n",
    "\n",
    "    comp_tau, comp_Vp = RC_fit(comp_t, comp_V)\n",
    "    \n",
    "    return C_m * comp_Vp/comp_tau\n",
    "    \n",
    "\n",
    "point_t, point_V =  point_neuron(I_point())\n",
    "\n",
    "plt.plot(point_t, point_V)\n",
    "plt.plot(comp_t, comp_V)    "
   ]
  }
 ],
 "metadata": {
  "kernelspec": {
   "display_name": "IPython (Python 2)",
   "name": "python2"
  },
  "language_info": {
   "codemirror_mode": {
    "name": "ipython",
    "version": 2
   },
   "file_extension": ".py",
   "mimetype": "text/x-python",
   "name": "python",
   "nbconvert_exporter": "python",
   "pygments_lexer": "ipython2",
   "version": "2.7.11"
  },
  "name": "DBS_example.ipynb"
 },
 "nbformat": 4,
 "nbformat_minor": 0
}
